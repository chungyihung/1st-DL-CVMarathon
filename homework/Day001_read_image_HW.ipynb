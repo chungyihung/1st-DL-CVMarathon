{
 "cells": [
  {
   "cell_type": "markdown",
   "metadata": {},
   "source": [
    "# 作業\n",
    "\n",
    "思考一下我們前面有提到圖片是矩陣，但維度可能會不一樣\n",
    "例如灰階圖只有兩個維度，RGB 彩圖則有 3 個維度\n",
    "\n",
    "假如今天我們把 RGB 3 個維度拆開來看會有甚麼不同的效果呢？"
   ]
  },
  {
   "cell_type": "code",
   "execution_count": null,
   "metadata": {},
   "outputs": [],
   "source": [
    "# %load Day001.py\n",
    "#!/usr/bin/python3\n",
    "import cv2\n",
    "\n",
    "LENA_IMG_PATH = 'lena.png'\n",
    "img = cv2.imread(LENA_IMG_PATH, cv2.IMREAD_COLOR)\n",
    "\n",
    "imgHeight = img.shape[0]\n",
    "imgWidth = img.shape[1]\n",
    "imgChannel = img.shape[2]\n",
    "\n",
    "resizeFac = 0.4\n",
    "\n",
    "for channel in range(imgChannel):\n",
    "    wndTitle = \"Channel: \" + str(channel)\n",
    "    cv2.namedWindow(wndTitle, cv2.WINDOW_NORMAL)\n",
    "    cv2.imshow(wndTitle, img[:, :, channel])\n",
    "    cv2.resizeWindow(wndTitle, (int(imgWidth * resizeFac), int(imgHeight * resizeFac)))\n",
    "    cv2.moveWindow(wndTitle, int(imgWidth * channel * resizeFac), 0)\n",
    "\n",
    "cv2.waitKey(0)\n",
    "cv2.destroyAllWindows()\n"
   ]
  },
  {
   "cell_type": "markdown",
   "metadata": {},
   "source": [
    "單獨將RGB channel獨立出來顯示，會以灰階的方式表達個別channel的強度"
   ]
  }
 ],
 "metadata": {
  "kernelspec": {
   "display_name": "Python 3",
   "language": "python",
   "name": "python3"
  },
  "language_info": {
   "codemirror_mode": {
    "name": "ipython",
    "version": 3
   },
   "file_extension": ".py",
   "mimetype": "text/x-python",
   "name": "python",
   "nbconvert_exporter": "python",
   "pygments_lexer": "ipython3",
   "version": "3.7.4"
  }
 },
 "nbformat": 4,
 "nbformat_minor": 2
}
