{
 "cells": [
  {
   "cell_type": "markdown",
   "metadata": {},
   "source": [
    "# 作業\n",
    "\n",
    "使用 [Lena](http://optipng.sourceforge.net/pngtech/img/lena.png)\n",
    "\n",
    "- 改變圖片的 color space (`HLS`, `LAB`) 並呈現"
   ]
  },
  {
   "cell_type": "code",
   "execution_count": 3,
   "metadata": {},
   "outputs": [],
   "source": [
    "# %load Day002.py\n",
    "#!/usr/bin/python3\n",
    "import cv2\n",
    "\n",
    "LENA_IMG_PATH = 'lena.png'\n",
    "img = cv2.imread(LENA_IMG_PATH, cv2.IMREAD_COLOR)\n",
    "\n",
    "imgHeight = img.shape[0]\n",
    "imgWidth = img.shape[1]\n",
    "imgChannel = img.shape[2]\n",
    "\n",
    "img_hls = cv2.cvtColor(img, cv2.COLOR_BGR2HLS)\n",
    "img_lab =  cv2.cvtColor(img, cv2.COLOR_BGR2LAB)\n",
    "resizeFac = 0.4\n",
    "wndIdx = 1\n",
    "\n",
    "wndTitle = \"HLS\"\n",
    "cv2.namedWindow(wndTitle, cv2.WINDOW_NORMAL)\n",
    "cv2.imshow(wndTitle, img_hls)\n",
    "cv2.resizeWindow(wndTitle, (int(imgWidth * resizeFac), int(imgHeight * resizeFac)))\n",
    "cv2.moveWindow(wndTitle, int(imgWidth * wndIdx * resizeFac), 0)\n",
    "\n",
    "wndIdx = wndIdx +1\n",
    "\n",
    "wndTitle = \"LAB\"\n",
    "cv2.namedWindow(wndTitle, cv2.WINDOW_NORMAL)\n",
    "cv2.imshow(wndTitle, img_lab)\n",
    "cv2.resizeWindow(wndTitle, (int(imgWidth * resizeFac), int(imgHeight * resizeFac)))\n",
    "cv2.moveWindow(wndTitle, int(imgWidth * wndIdx * resizeFac), 0)\n",
    "\n",
    "cv2.waitKey(0)\n",
    "cv2.destroyAllWindows()\n"
   ]
  },
  {
   "cell_type": "code",
   "execution_count": null,
   "metadata": {},
   "outputs": [],
   "source": [
    "\n"
   ]
  }
 ],
 "metadata": {
  "kernelspec": {
   "display_name": "Python 3",
   "language": "python",
   "name": "python3"
  },
  "language_info": {
   "codemirror_mode": {
    "name": "ipython",
    "version": 3
   },
   "file_extension": ".py",
   "mimetype": "text/x-python",
   "name": "python",
   "nbconvert_exporter": "python",
   "pygments_lexer": "ipython3",
   "version": "3.7.4"
  }
 },
 "nbformat": 4,
 "nbformat_minor": 2
}
